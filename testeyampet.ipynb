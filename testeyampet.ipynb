{
  "nbformat": 4,
  "nbformat_minor": 0,
  "metadata": {
    "colab": {
      "provenance": []
    },
    "kernelspec": {
      "name": "python3",
      "display_name": "Python 3"
    },
    "language_info": {
      "name": "python"
    }
  },
  "cells": [
    {
      "cell_type": "code",
      "source": [
        "!apt-get install openjdk-8-jdk-headless -qq > /dev/null\n"
      ],
      "metadata": {
        "id": "T2glXugVWiM1"
      },
      "execution_count": null,
      "outputs": []
    },
    {
      "cell_type": "code",
      "execution_count": null,
      "metadata": {
        "id": "f8RkjpX-WGiL"
      },
      "outputs": [],
      "source": [
        "!wget -q !wget -q https://dlcdn.apache.org/spark/spark-3.5.3/spark-3.5.3-bin-hadoop3.tgz"
      ]
    },
    {
      "cell_type": "code",
      "source": [
        "!tar xf spark-3.5.3-bin-hadoop3.tgz"
      ],
      "metadata": {
        "id": "NstbvvkjWt2m"
      },
      "execution_count": null,
      "outputs": []
    },
    {
      "cell_type": "code",
      "source": [
        "!pip install -q findspark\n"
      ],
      "metadata": {
        "id": "d6SBecPQWy67"
      },
      "execution_count": null,
      "outputs": []
    },
    {
      "cell_type": "code",
      "source": [
        "!pip install -q pyspark\n"
      ],
      "metadata": {
        "id": "3srQAzkHW7Kb"
      },
      "execution_count": null,
      "outputs": []
    },
    {
      "cell_type": "code",
      "source": [
        "import os\n",
        "os.environ['JAVA_HOME'] = '/usr/lib/jvm/java-8-openjdk-amd64'\n",
        "os.environ['SPARK_HOME'] = '/content/spark-3.5.3-bin-hadoop3'\n"
      ],
      "metadata": {
        "id": "fyJHgk8NW-x7"
      },
      "execution_count": null,
      "outputs": []
    },
    {
      "cell_type": "code",
      "source": [
        "import findspark\n",
        "findspark.init()\n"
      ],
      "metadata": {
        "id": "F0dwT122XDCd"
      },
      "execution_count": null,
      "outputs": []
    },
    {
      "cell_type": "code",
      "source": [
        "from pyspark.sql import SparkSession\n",
        "spark = SparkSession.builder\\\n",
        "        .master('local[*]')\\\n",
        "        .appName('yampet')\\\n",
        "        .getOrCreate()\n"
      ],
      "metadata": {
        "id": "N49L28e3YNcL"
      },
      "execution_count": null,
      "outputs": []
    },
    {
      "cell_type": "code",
      "source": [
        "from google.colab import files\n",
        "uploaded = files.upload()"
      ],
      "metadata": {
        "colab": {
          "base_uri": "https://localhost:8080/",
          "height": 216
        },
        "id": "yxmTKhS6cdFa",
        "outputId": "667e47d4-07f4-4323-8dc3-3197849d8f82"
      },
      "execution_count": null,
      "outputs": [
        {
          "output_type": "display_data",
          "data": {
            "text/plain": [
              "<IPython.core.display.HTML object>"
            ],
            "text/html": [
              "\n",
              "     <input type=\"file\" id=\"files-82ab43dc-64e9-4ef7-9b1e-0773f321df56\" name=\"files[]\" multiple disabled\n",
              "        style=\"border:none\" />\n",
              "     <output id=\"result-82ab43dc-64e9-4ef7-9b1e-0773f321df56\">\n",
              "      Upload widget is only available when the cell has been executed in the\n",
              "      current browser session. Please rerun this cell to enable.\n",
              "      </output>\n",
              "      <script>// Copyright 2017 Google LLC\n",
              "//\n",
              "// Licensed under the Apache License, Version 2.0 (the \"License\");\n",
              "// you may not use this file except in compliance with the License.\n",
              "// You may obtain a copy of the License at\n",
              "//\n",
              "//      http://www.apache.org/licenses/LICENSE-2.0\n",
              "//\n",
              "// Unless required by applicable law or agreed to in writing, software\n",
              "// distributed under the License is distributed on an \"AS IS\" BASIS,\n",
              "// WITHOUT WARRANTIES OR CONDITIONS OF ANY KIND, either express or implied.\n",
              "// See the License for the specific language governing permissions and\n",
              "// limitations under the License.\n",
              "\n",
              "/**\n",
              " * @fileoverview Helpers for google.colab Python module.\n",
              " */\n",
              "(function(scope) {\n",
              "function span(text, styleAttributes = {}) {\n",
              "  const element = document.createElement('span');\n",
              "  element.textContent = text;\n",
              "  for (const key of Object.keys(styleAttributes)) {\n",
              "    element.style[key] = styleAttributes[key];\n",
              "  }\n",
              "  return element;\n",
              "}\n",
              "\n",
              "// Max number of bytes which will be uploaded at a time.\n",
              "const MAX_PAYLOAD_SIZE = 100 * 1024;\n",
              "\n",
              "function _uploadFiles(inputId, outputId) {\n",
              "  const steps = uploadFilesStep(inputId, outputId);\n",
              "  const outputElement = document.getElementById(outputId);\n",
              "  // Cache steps on the outputElement to make it available for the next call\n",
              "  // to uploadFilesContinue from Python.\n",
              "  outputElement.steps = steps;\n",
              "\n",
              "  return _uploadFilesContinue(outputId);\n",
              "}\n",
              "\n",
              "// This is roughly an async generator (not supported in the browser yet),\n",
              "// where there are multiple asynchronous steps and the Python side is going\n",
              "// to poll for completion of each step.\n",
              "// This uses a Promise to block the python side on completion of each step,\n",
              "// then passes the result of the previous step as the input to the next step.\n",
              "function _uploadFilesContinue(outputId) {\n",
              "  const outputElement = document.getElementById(outputId);\n",
              "  const steps = outputElement.steps;\n",
              "\n",
              "  const next = steps.next(outputElement.lastPromiseValue);\n",
              "  return Promise.resolve(next.value.promise).then((value) => {\n",
              "    // Cache the last promise value to make it available to the next\n",
              "    // step of the generator.\n",
              "    outputElement.lastPromiseValue = value;\n",
              "    return next.value.response;\n",
              "  });\n",
              "}\n",
              "\n",
              "/**\n",
              " * Generator function which is called between each async step of the upload\n",
              " * process.\n",
              " * @param {string} inputId Element ID of the input file picker element.\n",
              " * @param {string} outputId Element ID of the output display.\n",
              " * @return {!Iterable<!Object>} Iterable of next steps.\n",
              " */\n",
              "function* uploadFilesStep(inputId, outputId) {\n",
              "  const inputElement = document.getElementById(inputId);\n",
              "  inputElement.disabled = false;\n",
              "\n",
              "  const outputElement = document.getElementById(outputId);\n",
              "  outputElement.innerHTML = '';\n",
              "\n",
              "  const pickedPromise = new Promise((resolve) => {\n",
              "    inputElement.addEventListener('change', (e) => {\n",
              "      resolve(e.target.files);\n",
              "    });\n",
              "  });\n",
              "\n",
              "  const cancel = document.createElement('button');\n",
              "  inputElement.parentElement.appendChild(cancel);\n",
              "  cancel.textContent = 'Cancel upload';\n",
              "  const cancelPromise = new Promise((resolve) => {\n",
              "    cancel.onclick = () => {\n",
              "      resolve(null);\n",
              "    };\n",
              "  });\n",
              "\n",
              "  // Wait for the user to pick the files.\n",
              "  const files = yield {\n",
              "    promise: Promise.race([pickedPromise, cancelPromise]),\n",
              "    response: {\n",
              "      action: 'starting',\n",
              "    }\n",
              "  };\n",
              "\n",
              "  cancel.remove();\n",
              "\n",
              "  // Disable the input element since further picks are not allowed.\n",
              "  inputElement.disabled = true;\n",
              "\n",
              "  if (!files) {\n",
              "    return {\n",
              "      response: {\n",
              "        action: 'complete',\n",
              "      }\n",
              "    };\n",
              "  }\n",
              "\n",
              "  for (const file of files) {\n",
              "    const li = document.createElement('li');\n",
              "    li.append(span(file.name, {fontWeight: 'bold'}));\n",
              "    li.append(span(\n",
              "        `(${file.type || 'n/a'}) - ${file.size} bytes, ` +\n",
              "        `last modified: ${\n",
              "            file.lastModifiedDate ? file.lastModifiedDate.toLocaleDateString() :\n",
              "                                    'n/a'} - `));\n",
              "    const percent = span('0% done');\n",
              "    li.appendChild(percent);\n",
              "\n",
              "    outputElement.appendChild(li);\n",
              "\n",
              "    const fileDataPromise = new Promise((resolve) => {\n",
              "      const reader = new FileReader();\n",
              "      reader.onload = (e) => {\n",
              "        resolve(e.target.result);\n",
              "      };\n",
              "      reader.readAsArrayBuffer(file);\n",
              "    });\n",
              "    // Wait for the data to be ready.\n",
              "    let fileData = yield {\n",
              "      promise: fileDataPromise,\n",
              "      response: {\n",
              "        action: 'continue',\n",
              "      }\n",
              "    };\n",
              "\n",
              "    // Use a chunked sending to avoid message size limits. See b/62115660.\n",
              "    let position = 0;\n",
              "    do {\n",
              "      const length = Math.min(fileData.byteLength - position, MAX_PAYLOAD_SIZE);\n",
              "      const chunk = new Uint8Array(fileData, position, length);\n",
              "      position += length;\n",
              "\n",
              "      const base64 = btoa(String.fromCharCode.apply(null, chunk));\n",
              "      yield {\n",
              "        response: {\n",
              "          action: 'append',\n",
              "          file: file.name,\n",
              "          data: base64,\n",
              "        },\n",
              "      };\n",
              "\n",
              "      let percentDone = fileData.byteLength === 0 ?\n",
              "          100 :\n",
              "          Math.round((position / fileData.byteLength) * 100);\n",
              "      percent.textContent = `${percentDone}% done`;\n",
              "\n",
              "    } while (position < fileData.byteLength);\n",
              "  }\n",
              "\n",
              "  // All done.\n",
              "  yield {\n",
              "    response: {\n",
              "      action: 'complete',\n",
              "    }\n",
              "  };\n",
              "}\n",
              "\n",
              "scope.google = scope.google || {};\n",
              "scope.google.colab = scope.google.colab || {};\n",
              "scope.google.colab._files = {\n",
              "  _uploadFiles,\n",
              "  _uploadFilesContinue,\n",
              "};\n",
              "})(self);\n",
              "</script> "
            ]
          },
          "metadata": {}
        },
        {
          "output_type": "stream",
          "name": "stdout",
          "text": [
            "Saving pet.csv to pet.csv\n",
            "Saving pessoa_juridica.csv to pessoa_juridica.csv\n",
            "Saving pessoa_fisica.csv to pessoa_fisica.csv\n",
            "Saving login.csv to login.csv\n",
            "Saving contato.csv to contato.csv\n"
          ]
        }
      ]
    },
    {
      "cell_type": "code",
      "source": [
        "#criação dos dados\n",
        "df_contato = spark.read.csv('contato.csv', header=True, inferSchema=True)"
      ],
      "metadata": {
        "id": "QmnqOidAdbza"
      },
      "execution_count": null,
      "outputs": []
    },
    {
      "cell_type": "code",
      "source": [
        "df_contato.printSchema()"
      ],
      "metadata": {
        "colab": {
          "base_uri": "https://localhost:8080/"
        },
        "id": "qr3FY8D25mZ1",
        "outputId": "69191bfc-12ca-49ed-a81a-25e87c9753a6"
      },
      "execution_count": null,
      "outputs": [
        {
          "output_type": "stream",
          "name": "stdout",
          "text": [
            "root\n",
            " |-- id_contato: integer (nullable = true)\n",
            " |-- telefone: long (nullable = true)\n",
            " |-- email: string (nullable = true)\n",
            " |-- fk_pf: string (nullable = true)\n",
            " |-- fk_pj: string (nullable = true)\n",
            "\n"
          ]
        }
      ]
    },
    {
      "cell_type": "code",
      "source": [
        "df_login = spark.read.csv('login.csv', header=True, inferSchema=True)\n"
      ],
      "metadata": {
        "id": "MYxYRaHu5ucF"
      },
      "execution_count": null,
      "outputs": []
    },
    {
      "cell_type": "code",
      "source": [
        "df_login.printSchema()"
      ],
      "metadata": {
        "colab": {
          "base_uri": "https://localhost:8080/"
        },
        "id": "7DYbuqf56v3w",
        "outputId": "0829c805-e5fe-43ee-e800-216599492ef5"
      },
      "execution_count": null,
      "outputs": [
        {
          "output_type": "stream",
          "name": "stdout",
          "text": [
            "root\n",
            " |-- id_login: integer (nullable = true)\n",
            " |-- usuario: string (nullable = true)\n",
            " |-- senha: string (nullable = true)\n",
            "\n"
          ]
        }
      ]
    },
    {
      "cell_type": "code",
      "source": [
        "df_pessoaJuridica = spark.read.csv('pessoa_juridica.csv', header=True, inferSchema=True)"
      ],
      "metadata": {
        "id": "KdplW73I7dq8"
      },
      "execution_count": null,
      "outputs": []
    },
    {
      "cell_type": "code",
      "source": [
        "df_pessoaJuridica.printSchema()"
      ],
      "metadata": {
        "colab": {
          "base_uri": "https://localhost:8080/"
        },
        "id": "ZrFNAfS072q1",
        "outputId": "15ce9674-c52c-4b9e-fa5f-003347cefd83"
      },
      "execution_count": null,
      "outputs": [
        {
          "output_type": "stream",
          "name": "stdout",
          "text": [
            "root\n",
            " |-- id_pj: integer (nullable = true)\n",
            " |-- nome_fantasia: string (nullable = true)\n",
            " |-- cnpj: long (nullable = true)\n",
            " |-- fk_endereco: integer (nullable = true)\n",
            " |-- fk_login: integer (nullable = true)\n",
            "\n"
          ]
        }
      ]
    },
    {
      "cell_type": "code",
      "source": [
        "df_pessoaFisica = spark.read.csv('pessoa_fisica.csv', header=True, inferSchema=True)"
      ],
      "metadata": {
        "id": "P0RwBDX-7_Dl"
      },
      "execution_count": null,
      "outputs": []
    },
    {
      "cell_type": "code",
      "source": [
        "df_pessoaFisica.printSchema()"
      ],
      "metadata": {
        "colab": {
          "base_uri": "https://localhost:8080/"
        },
        "id": "CxfIaSdk9Yj3",
        "outputId": "0901b6e7-2932-48a4-d764-d94738e78a8b"
      },
      "execution_count": null,
      "outputs": [
        {
          "output_type": "stream",
          "name": "stdout",
          "text": [
            "root\n",
            " |-- id_pf: integer (nullable = true)\n",
            " |-- nome: string (nullable = true)\n",
            " |-- cpf: long (nullable = true)\n",
            " |-- idade: integer (nullable = true)\n",
            " |-- data_nascimento: date (nullable = true)\n",
            " |-- sexo: string (nullable = true)\n",
            " |-- estado_civil: string (nullable = true)\n",
            " |-- fk_endereco: integer (nullable = true)\n",
            " |-- fk_login: integer (nullable = true)\n",
            "\n"
          ]
        }
      ]
    },
    {
      "cell_type": "code",
      "source": [
        "df_pet = spark.read.csv('pet.csv', header=True,inferSchema=True)"
      ],
      "metadata": {
        "id": "DhVx_ZcA96Gh"
      },
      "execution_count": null,
      "outputs": []
    },
    {
      "cell_type": "code",
      "source": [
        "df_pet.printSchema()"
      ],
      "metadata": {
        "colab": {
          "base_uri": "https://localhost:8080/"
        },
        "id": "cNxxkzIX-WW9",
        "outputId": "c192e014-23f5-4c78-b44b-847e06a6a1b1"
      },
      "execution_count": null,
      "outputs": [
        {
          "output_type": "stream",
          "name": "stdout",
          "text": [
            "root\n",
            " |-- id_pet: integer (nullable = true)\n",
            " |-- nome: string (nullable = true)\n",
            " |-- especie: string (nullable = true)\n",
            " |-- raca: string (nullable = true)\n",
            " |-- cor: string (nullable = true)\n",
            " |-- situacao: string (nullable = true)\n",
            " |-- enfermo: string (nullable = true)\n",
            " |-- descricao: string (nullable = true)\n",
            " |-- fk_login: integer (nullable = true)\n",
            " |-- fk_pf: integer (nullable = true)\n",
            " |-- fk_pj: integer (nullable = true)\n",
            "\n"
          ]
        }
      ]
    },
    {
      "cell_type": "code",
      "source": [
        "df_contato.show(), df_login.show(), df_pessoaJuridica.show(), df_pessoaFisica.show(), df_pet.show()"
      ],
      "metadata": {
        "colab": {
          "base_uri": "https://localhost:8080/"
        },
        "id": "3NEu66Dz-gN9",
        "outputId": "b569e254-e72f-4f1f-fe51-d5968c235277"
      },
      "execution_count": null,
      "outputs": [
        {
          "output_type": "stream",
          "name": "stdout",
          "text": [
            "+----------+-----------+--------------------+-----+-----+\n",
            "|id_contato|   telefone|               email|fk_pf|fk_pj|\n",
            "+----------+-----------+--------------------+-----+-----+\n",
            "|      3308|21987654920|contato600@exampl...| NULL| 1199|\n",
            "|      3307|21987654919|contato599@exampl...| NULL| 1198|\n",
            "|      3306|21987654918|contato598@exampl...| NULL| 1197|\n",
            "|      3305|21987654917|contato597@exampl...| NULL| 1196|\n",
            "|      3304|21987654916|contato596@exampl...| NULL| 1195|\n",
            "|      3303|21987654915|contato595@exampl...| NULL| 1194|\n",
            "|      3302|21987654914|contato594@exampl...| NULL| 1193|\n",
            "|      3301|21987654913|contato593@exampl...| NULL| 1192|\n",
            "|      3300|21987654912|contato592@exampl...| NULL| 1191|\n",
            "|      3299|21987654911|contato591@exampl...| NULL| 1190|\n",
            "|      3298|21987654910|contato590@exampl...| NULL| 1189|\n",
            "|      3297|21987654909|contato589@exampl...| NULL| 1188|\n",
            "|      3296|21987654908|contato588@exampl...| NULL| 1187|\n",
            "|      3295|21987654907|contato587@exampl...| NULL| 1186|\n",
            "|      3294|21987654906|contato586@exampl...| NULL| 1185|\n",
            "|      3293|21987654905|contato585@exampl...| NULL| 1184|\n",
            "|      3292|21987654904|contato584@exampl...| NULL| 1183|\n",
            "|      3291|21987654903|contato583@exampl...| NULL| 1182|\n",
            "|      3290|21987654902|contato582@exampl...| NULL| 1181|\n",
            "|      3289|21987654901|contato581@exampl...| NULL| 1180|\n",
            "+----------+-----------+--------------------+-----+-----+\n",
            "only showing top 20 rows\n",
            "\n",
            "+--------+----------+--------+\n",
            "|id_login|   usuario|   senha|\n",
            "+--------+----------+--------+\n",
            "|     600|usuario600|senha600|\n",
            "|     599|usuario599|senha599|\n",
            "|     598|usuario598|senha598|\n",
            "|     597|usuario597|senha597|\n",
            "|     596|usuario596|senha596|\n",
            "|     595|usuario595|senha595|\n",
            "|     594|usuario594|senha594|\n",
            "|     593|usuario593|senha593|\n",
            "|     592|usuario592|senha592|\n",
            "|     591|usuario591|senha591|\n",
            "|     590|usuario590|senha590|\n",
            "|     589|usuario589|senha589|\n",
            "|     588|usuario588|senha588|\n",
            "|     587|usuario587|senha587|\n",
            "|     586|usuario586|senha586|\n",
            "|     585|usuario585|senha585|\n",
            "|     584|usuario584|senha584|\n",
            "|     583|usuario583|senha583|\n",
            "|     582|usuario582|senha582|\n",
            "|     581|usuario581|senha581|\n",
            "+--------+----------+--------+\n",
            "only showing top 20 rows\n",
            "\n",
            "+-----+--------------------+--------------+-----------+--------+\n",
            "|id_pj|       nome_fantasia|          cnpj|fk_endereco|fk_login|\n",
            "+-----+--------------------+--------------+-----------+--------+\n",
            "| 1200|Cãonstruindo Hist...|21222334000399|        600|     600|\n",
            "| 1199|    Bicho do Coração|10111223000398|        599|     599|\n",
            "| 1198|       Pet e Amizade|98990000000397|        598|     598|\n",
            "| 1197|    Patas que Cuidam|87888990000396|        597|     597|\n",
            "| 1196|      Cão do Coração|76777889000395|        596|     596|\n",
            "| 1195|     Amigo das Patas|65666778000394|        595|     595|\n",
            "| 1194|         Pet do Amor|54555667000393|        594|     594|\n",
            "| 1193|         Cãonhecidos|43444556000392|        593|     593|\n",
            "| 1192|     Patas e Alegria|32333445000391|        592|     592|\n",
            "| 1191|      Bichos e Afeto|21222334000390|        591|     591|\n",
            "| 1190|  Cãomunidade Animal|10111223000389|        590|     590|\n",
            "| 1189|      Pet e Aventura|98990000000388|        589|     589|\n",
            "| 1188|         Cãodimensão|87888990000387|        588|     588|\n",
            "| 1187|     Amor a Cada Cão|76777889000386|        587|     587|\n",
            "| 1186|       Pet e Sorriso|65666778000385|        586|     586|\n",
            "| 1185|  Cãomunidade de Luz|54555667000384|        585|     585|\n",
            "| 1184|       Pet Abençoado|43444556000383|        584|     584|\n",
            "| 1183|    Patas de Coração|32333445000382|        583|     583|\n",
            "| 1182|       Bicho Amoroso|21222334000381|        582|     582|\n",
            "| 1181| Cãomunidade do Amor|10111223000380|        581|     581|\n",
            "+-----+--------------------+--------------+-----------+--------+\n",
            "only showing top 20 rows\n",
            "\n",
            "+-----+------------------+-----------+-----+---------------+---------+------------+-----------+--------+\n",
            "|id_pf|              nome|        cpf|idade|data_nascimento|     sexo|estado_civil|fk_endereco|fk_login|\n",
            "+-----+------------------+-----------+-----+---------------+---------+------------+-----------+--------+\n",
            "|  898|marcelinho carioca|88765432201|   36|     1987-11-15|Masculino|  Divorciado|          2|     299|\n",
            "|  899|         Ana Costa|77654321112|   30|     1993-12-20| Feminino|      Casado|          1|     300|\n",
            "|  896|      Lucas Santos|11098765477|   34|     1989-09-20|Masculino|       Viúvo|          4|     297|\n",
            "|  897|     Sofia Almeida|99876543290|   28|     1995-10-10| Feminino|    Solteiro|          3|     298|\n",
            "|  893|  Fernanda Almeida|44321098744|   30|     1993-06-15| Feminino|    Solteiro|          7|     294|\n",
            "|  894|   Carlos Oliveira|33210987655|   36|     1987-07-10|Masculino|      Casado|          6|     295|\n",
            "|  895|    Bruna Ferreira|22109876566|   30|     1993-08-15| Feminino|  Divorciado|          5|     296|\n",
            "|  890|      Gabriel Lima|77654321111|   30|     1993-03-25|Masculino|      Casado|         10|     291|\n",
            "|  891|      Karina Costa|66543211022|   29|     1994-04-10| Feminino|  Divorciado|          9|     292|\n",
            "|  892|     Thiago Santos|55432109833|   34|     1989-05-20|Masculino|       Viúvo|          8|     293|\n",
            "|  888|    Diego Ferreira|99876543289|   30|     1993-01-15|Masculino|       Viúvo|         12|     289|\n",
            "|  889|   Tatiane Almeida|88765432200|   34|     1989-02-20| Feminino|    Solteiro|         11|     290|\n",
            "|  886|  Fernando Almeida|22109876565|   34|     1989-11-05|Masculino|      Casado|         14|     287|\n",
            "|  887|   Gabriela Santos|11098765476|   36|     1987-12-25| Feminino|  Divorciado|         13|     288|\n",
            "|  883|      Ana Ferreira|55432109832|   34|     1989-08-25| Feminino|  Divorciado|         17|     284|\n",
            "|  884|      Ricardo Lima|44321098743|   30|     1993-09-30|Masculino|       Viúvo|         16|     285|\n",
            "|  885|       Bruna Costa|33210987654|   26|     1997-10-15| Feminino|    Solteiro|         15|     286|\n",
            "|  881|    Juliana Santos|77654321110|   34|     1989-06-10| Feminino|    Solteiro|         19|     282|\n",
            "|  882|   Eduardo Almeida|66543211021|   29|     1994-07-20|Masculino|      Casado|         18|     283|\n",
            "|  879| Gabriela Ferreira|99876543288|   36|     1987-04-20| Feminino|  Divorciado|         21|     280|\n",
            "+-----+------------------+-----------+-----+---------------+---------+------------+-----------+--------+\n",
            "only showing top 20 rows\n",
            "\n",
            "+------+--------+-------+--------+---------+--------+-------+--------------------+--------+-----+-----+\n",
            "|id_pet|    nome|especie|    raca|      cor|situacao|enfermo|           descricao|fk_login|fk_pf|fk_pj|\n",
            "+------+--------+-------+--------+---------+--------+-------+--------------------+--------+-----+-----+\n",
            "|   376|    Ruby|   Gato|  Siamês|   Branco|   Venda|    Não|Gata doce e adorá...|     376|    0|  976|\n",
            "|   377|  Copper|    Cão| Pitbull|    Preto|  Adoção|    Não|Pitbull fiel e pr...|     377|    0|  977|\n",
            "|   374|  Pepper|   Gato|     SRD|    Preto|   Venda|    Não|Gata suave e afet...|     374|    0|  974|\n",
            "|   375|Maverick|    Cão|   Husky|    Cinza|  Adoção|    Sim|Husky energético ...|     375|    0|  975|\n",
            "|   373|  Ranger|    Cão|  Beagle| Tricolor|  Adoção|    Não|Beagle curioso e ...|     373|    0|  973|\n",
            "|   372|  Willow|   Gato|   Persa|    Cinza|   Venda|    Não|Gata elegante e t...|     372|    0|  972|\n",
            "|   370|   Amber|   Gato|  Bengal|   Marrom|   Venda|    Não|Gata ativa e chei...|     370|    0|  970|\n",
            "|   371| Charlie|    Cão|Labrador|Chocolate|  Adoção|    Sim|Labrador leal e c...|     371|    0|  971|\n",
            "|   369|    Bear|    Cão|  Golden|  Dourado|  Adoção|    Não|Golden brincalhão...|     369|    0|  969|\n",
            "|   368|    Nala|   Gato|  Siamês|   Branco|   Venda|    Não|Gata doce e carin...|     368|    0|  968|\n",
            "|   366|Samantha|   Gato|     SRD|    Cinza|   Venda|    Não|Gata tranquila e ...|     366|    0|  966|\n",
            "|   367|    Finn|    Cão| Pitbull|    Preto|  Adoção|    Sim|Pitbull afetuoso ...|     367|    0|  967|\n",
            "|   365|   Rusty|    Cão|  Beagle| Tricolor|  Adoção|    Não|Beagle amigável e...|     365|    0|  965|\n",
            "|   364|   Misty|   Gato|  Bengal|   Marrom|   Venda|    Não|Gata ativa e chei...|     364|    0|  964|\n",
            "|   363|    Jake|    Cão|Labrador|    Preto|  Adoção|    Sim|Labrador leal e a...|     363|    0|  963|\n",
            "|   362|   Roxie|   Gato|   Persa|  Laranja|   Venda|    Não|Gata brincalhona ...|     362|    0|  962|\n",
            "|   361|   Scout|    Cão|   Husky|   Branco|  Adoção|    Não|Husky aventureiro...|     361|    0|  961|\n",
            "|   360|   Daisy|   Gato|     SRD|    Preto|   Venda|    Não|Gata carinhosa e ...|     360|    0|  960|\n",
            "|   359|     Leo|    Cão| Pitbull|    Cinza|  Adoção|    Sim|Pitbull fiel e pr...|     359|    0|  959|\n",
            "|   357|  Apollo|    Cão| Bulldog|   Branco|  Adoção|    Não|Bulldog afetuoso ...|     357|    0|  957|\n",
            "+------+--------+-------+--------+---------+--------+-------+--------------------+--------+-----+-----+\n",
            "only showing top 20 rows\n",
            "\n"
          ]
        },
        {
          "output_type": "execute_result",
          "data": {
            "text/plain": [
              "(None, None, None, None, None)"
            ]
          },
          "metadata": {},
          "execution_count": 20
        }
      ]
    },
    {
      "cell_type": "code",
      "source": [
        "#selecionar colunas\n",
        "pF = df_pessoaFisica.select('nome','estado_civil')\n"
      ],
      "metadata": {
        "id": "_FKp7O8NE3l3"
      },
      "execution_count": null,
      "outputs": []
    },
    {
      "cell_type": "code",
      "source": [
        "pF.show()"
      ],
      "metadata": {
        "colab": {
          "base_uri": "https://localhost:8080/"
        },
        "id": "yLW6wNfyKzp7",
        "outputId": "f37aacb7-db87-4557-c34e-d95846e85589"
      },
      "execution_count": null,
      "outputs": [
        {
          "output_type": "stream",
          "name": "stdout",
          "text": [
            "+------------------+------------+\n",
            "|              nome|estado_civil|\n",
            "+------------------+------------+\n",
            "|marcelinho carioca|  Divorciado|\n",
            "|         Ana Costa|      Casado|\n",
            "|      Lucas Santos|       Viúvo|\n",
            "|     Sofia Almeida|    Solteiro|\n",
            "|  Fernanda Almeida|    Solteiro|\n",
            "|   Carlos Oliveira|      Casado|\n",
            "|    Bruna Ferreira|  Divorciado|\n",
            "|      Gabriel Lima|      Casado|\n",
            "|      Karina Costa|  Divorciado|\n",
            "|     Thiago Santos|       Viúvo|\n",
            "|    Diego Ferreira|       Viúvo|\n",
            "|   Tatiane Almeida|    Solteiro|\n",
            "|  Fernando Almeida|      Casado|\n",
            "|   Gabriela Santos|  Divorciado|\n",
            "|      Ana Ferreira|  Divorciado|\n",
            "|      Ricardo Lima|       Viúvo|\n",
            "|       Bruna Costa|    Solteiro|\n",
            "|    Juliana Santos|    Solteiro|\n",
            "|   Eduardo Almeida|      Casado|\n",
            "| Gabriela Ferreira|  Divorciado|\n",
            "+------------------+------------+\n",
            "only showing top 20 rows\n",
            "\n"
          ]
        }
      ]
    },
    {
      "cell_type": "code",
      "source": [
        "from pyspark.sql import functions as F\n",
        "\n",
        "pF = df_pessoaFisica.select('nome', 'estado_civil')\n",
        "\n",
        "pF_R = pF.groupBy('estado_civil').agg(F.count('nome').alias('quantidade'))\n",
        "\n",
        "pF_R.show()"
      ],
      "metadata": {
        "colab": {
          "base_uri": "https://localhost:8080/"
        },
        "id": "xwuXjuPhPSyZ",
        "outputId": "5a835b36-71f0-4719-a1c8-9fe1442d36ee"
      },
      "execution_count": null,
      "outputs": [
        {
          "output_type": "stream",
          "name": "stdout",
          "text": [
            "+------------+----------+\n",
            "|estado_civil|quantidade|\n",
            "+------------+----------+\n",
            "|       Viúvo|        74|\n",
            "|  Divorciado|        75|\n",
            "|    Solteiro|        75|\n",
            "|      Casado|        76|\n",
            "+------------+----------+\n",
            "\n"
          ]
        }
      ]
    },
    {
      "cell_type": "code",
      "source": [
        "df_pessoaFisica.createOrReplaceTempView(\"pessoaFisica\")\n",
        "df_pet.createOrReplaceTempView(\"pet\")\n"
      ],
      "metadata": {
        "id": "LL2OHlTcEUxT"
      },
      "execution_count": null,
      "outputs": []
    },
    {
      "cell_type": "markdown",
      "source": [],
      "metadata": {
        "id": "oy08064HtvSl"
      }
    },
    {
      "cell_type": "code",
      "source": [
        "spark.sql(\"SELECT * FROM pessoaFisica\").show(25)"
      ],
      "metadata": {
        "colab": {
          "base_uri": "https://localhost:8080/"
        },
        "id": "Wh-xKMZxtc22",
        "outputId": "3897c9b1-17a8-4e3f-bf45-d0be63398244"
      },
      "execution_count": null,
      "outputs": [
        {
          "output_type": "stream",
          "name": "stdout",
          "text": [
            "+-----+------------------+-----------+-----+---------------+---------+------------+-----------+--------+\n",
            "|id_pf|              nome|        cpf|idade|data_nascimento|     sexo|estado_civil|fk_endereco|fk_login|\n",
            "+-----+------------------+-----------+-----+---------------+---------+------------+-----------+--------+\n",
            "|  898|marcelinho carioca|88765432201|   36|     1987-11-15|Masculino|  Divorciado|          2|     299|\n",
            "|  899|         Ana Costa|77654321112|   30|     1993-12-20| Feminino|      Casado|          1|     300|\n",
            "|  896|      Lucas Santos|11098765477|   34|     1989-09-20|Masculino|       Viúvo|          4|     297|\n",
            "|  897|     Sofia Almeida|99876543290|   28|     1995-10-10| Feminino|    Solteiro|          3|     298|\n",
            "|  893|  Fernanda Almeida|44321098744|   30|     1993-06-15| Feminino|    Solteiro|          7|     294|\n",
            "|  894|   Carlos Oliveira|33210987655|   36|     1987-07-10|Masculino|      Casado|          6|     295|\n",
            "|  895|    Bruna Ferreira|22109876566|   30|     1993-08-15| Feminino|  Divorciado|          5|     296|\n",
            "|  890|      Gabriel Lima|77654321111|   30|     1993-03-25|Masculino|      Casado|         10|     291|\n",
            "|  891|      Karina Costa|66543211022|   29|     1994-04-10| Feminino|  Divorciado|          9|     292|\n",
            "|  892|     Thiago Santos|55432109833|   34|     1989-05-20|Masculino|       Viúvo|          8|     293|\n",
            "|  888|    Diego Ferreira|99876543289|   30|     1993-01-15|Masculino|       Viúvo|         12|     289|\n",
            "|  889|   Tatiane Almeida|88765432200|   34|     1989-02-20| Feminino|    Solteiro|         11|     290|\n",
            "|  886|  Fernando Almeida|22109876565|   34|     1989-11-05|Masculino|      Casado|         14|     287|\n",
            "|  887|   Gabriela Santos|11098765476|   36|     1987-12-25| Feminino|  Divorciado|         13|     288|\n",
            "|  883|      Ana Ferreira|55432109832|   34|     1989-08-25| Feminino|  Divorciado|         17|     284|\n",
            "|  884|      Ricardo Lima|44321098743|   30|     1993-09-30|Masculino|       Viúvo|         16|     285|\n",
            "|  885|       Bruna Costa|33210987654|   26|     1997-10-15| Feminino|    Solteiro|         15|     286|\n",
            "|  881|    Juliana Santos|77654321110|   34|     1989-06-10| Feminino|    Solteiro|         19|     282|\n",
            "|  882|   Eduardo Almeida|66543211021|   29|     1994-07-20|Masculino|      Casado|         18|     283|\n",
            "|  879| Gabriela Ferreira|99876543288|   36|     1987-04-20| Feminino|  Divorciado|         21|     280|\n",
            "|  880|   Carlos Oliveira|88765432199|   30|     1993-05-15|Masculino|       Viúvo|         20|     281|\n",
            "|  876|    Ricardo Santos|33210987653|   26|     1997-01-20|Masculino|       Viúvo|         24|     277|\n",
            "|  877|   Mariana Almeida|22109876564|   30|     1993-02-15| Feminino|    Solteiro|         23|     278|\n",
            "|  878|     Fernando Lima|11098765475|   34|     1989-03-10|Masculino|      Casado|         22|     279|\n",
            "|  875|     Tatiane Costa|44321098742|   34|     1989-12-25| Feminino|  Divorciado|         25|     276|\n",
            "+-----+------------------+-----------+-----+---------------+---------+------------+-----------+--------+\n",
            "only showing top 25 rows\n",
            "\n"
          ]
        }
      ]
    },
    {
      "cell_type": "code",
      "source": [
        "spark.sql(\"SELECT * FROM pet\").show(10)"
      ],
      "metadata": {
        "colab": {
          "base_uri": "https://localhost:8080/"
        },
        "id": "rpK07_56t5md",
        "outputId": "614a902c-5b82-45ea-de23-511dc941a130"
      },
      "execution_count": null,
      "outputs": [
        {
          "output_type": "stream",
          "name": "stdout",
          "text": [
            "+------+--------+-------+--------+---------+--------+-------+--------------------+--------+-----+-----+\n",
            "|id_pet|    nome|especie|    raca|      cor|situacao|enfermo|           descricao|fk_login|fk_pf|fk_pj|\n",
            "+------+--------+-------+--------+---------+--------+-------+--------------------+--------+-----+-----+\n",
            "|   376|    Ruby|   Gato|  Siamês|   Branco|   Venda|    Não|Gata doce e adorá...|     376|    0|  976|\n",
            "|   377|  Copper|    Cão| Pitbull|    Preto|  Adoção|    Não|Pitbull fiel e pr...|     377|    0|  977|\n",
            "|   374|  Pepper|   Gato|     SRD|    Preto|   Venda|    Não|Gata suave e afet...|     374|    0|  974|\n",
            "|   375|Maverick|    Cão|   Husky|    Cinza|  Adoção|    Sim|Husky energético ...|     375|    0|  975|\n",
            "|   373|  Ranger|    Cão|  Beagle| Tricolor|  Adoção|    Não|Beagle curioso e ...|     373|    0|  973|\n",
            "|   372|  Willow|   Gato|   Persa|    Cinza|   Venda|    Não|Gata elegante e t...|     372|    0|  972|\n",
            "|   370|   Amber|   Gato|  Bengal|   Marrom|   Venda|    Não|Gata ativa e chei...|     370|    0|  970|\n",
            "|   371| Charlie|    Cão|Labrador|Chocolate|  Adoção|    Sim|Labrador leal e c...|     371|    0|  971|\n",
            "|   369|    Bear|    Cão|  Golden|  Dourado|  Adoção|    Não|Golden brincalhão...|     369|    0|  969|\n",
            "|   368|    Nala|   Gato|  Siamês|   Branco|   Venda|    Não|Gata doce e carin...|     368|    0|  968|\n",
            "+------+--------+-------+--------+---------+--------+-------+--------------------+--------+-----+-----+\n",
            "only showing top 10 rows\n",
            "\n"
          ]
        }
      ]
    },
    {
      "cell_type": "code",
      "source": [
        "#Aqui verifica se tem correspodencia entre pessoaFisica e pet\n",
        "spark.sql(\"\"\"\n",
        "SELECT *\n",
        "FROM pessoaFisica pf\n",
        "JOIN pet ON pf.id_pf = pet.fk_pf\n",
        "\"\"\").show(10)\n"
      ],
      "metadata": {
        "colab": {
          "base_uri": "https://localhost:8080/"
        },
        "id": "eRD7AW37uJ1F",
        "outputId": "21eee656-8995-41f8-99b2-03d879a4cf20"
      },
      "execution_count": null,
      "outputs": [
        {
          "output_type": "stream",
          "name": "stdout",
          "text": [
            "+-----+------------------+-----------+-----+---------------+---------+------------+-----------+--------+------+--------+-------+--------+--------+--------+-------+--------------------+--------+-----+-----+\n",
            "|id_pf|              nome|        cpf|idade|data_nascimento|     sexo|estado_civil|fk_endereco|fk_login|id_pet|    nome|especie|    raca|     cor|situacao|enfermo|           descricao|fk_login|fk_pf|fk_pj|\n",
            "+-----+------------------+-----------+-----+---------------+---------+------------+-----------+--------+------+--------+-------+--------+--------+--------+-------+--------------------+--------+-----+-----+\n",
            "|  899|         Ana Costa|77654321112|   30|     1993-12-20| Feminino|      Casado|          1|     300|   300|  Trixie|   Gato|  Bengal|  Marrom|   Venda|    Não|Gata cheia de ene...|     300|  899|    0|\n",
            "|  898|marcelinho carioca|88765432201|   36|     1987-11-15|Masculino|  Divorciado|          2|     299|   299|   Oscar|    Cão|Labrador| Amarelo|  Adoção|    Sim|Labrador brincalh...|     299|  898|    0|\n",
            "|  897|     Sofia Almeida|99876543290|   28|     1995-10-10| Feminino|    Solteiro|          3|     298|   298|   Daisy|   Gato|     SRD|   Cinza|   Venda|    Não|Gata carinhosa e ...|     298|  897|    0|\n",
            "|  896|      Lucas Santos|11098765477|   34|     1989-09-20|Masculino|       Viúvo|          4|     297|   297|     Rex|    Cão|  Golden| Dourado|  Adoção|    Sim|Golden carinhoso ...|     297|  896|    0|\n",
            "|  894|   Carlos Oliveira|33210987655|   36|     1987-07-10|Masculino|      Casado|          6|     295|   295|   Buddy|    Cão|   Husky|   Cinza|  Adoção|    Sim|Husky leal e prot...|     295|  894|    0|\n",
            "|  895|    Bruna Ferreira|22109876566|   30|     1993-08-15| Feminino|  Divorciado|          5|     296|   296|Whiskers|   Gato|  Siamês|    Bege|   Venda|    Não|Gata tranquila e ...|     296|  895|    0|\n",
            "|  893|  Fernanda Almeida|44321098744|   30|     1993-06-15| Feminino|    Solteiro|          7|     294|   294|   Amber|   Gato|  Bengal| Dourado|   Venda|    Não|Gata cheia de amo...|     294|  893|    0|\n",
            "|  891|      Karina Costa|66543211022|   29|     1994-04-10| Feminino|  Divorciado|          9|     292|   292|   Bella|   Gato|   Persa|  Branco|   Venda|    Não|Gata suave e ador...|     292|  891|    0|\n",
            "|  892|     Thiago Santos|55432109833|   34|     1989-05-20|Masculino|       Viúvo|          8|     293|   293|    Finn|    Cão|  Beagle|Tricolor|  Adoção|    Sim|Beagle curioso e ...|     293|  892|    0|\n",
            "|  890|      Gabriel Lima|77654321111|   30|     1993-03-25|Masculino|      Casado|         10|     291|   291|   Rocky|    Cão| Pitbull|   Preto|  Adoção|    Sim|Pitbull carinhoso...|     291|  890|    0|\n",
            "+-----+------------------+-----------+-----+---------------+---------+------------+-----------+--------+------+--------+-------+--------+--------+--------+-------+--------------------+--------+-----+-----+\n",
            "only showing top 10 rows\n",
            "\n"
          ]
        }
      ]
    },
    {
      "cell_type": "code",
      "source": [
        "spark.sql(\"SELECT DISTINCT estado_civil FROM pessoaFisica\").show()"
      ],
      "metadata": {
        "colab": {
          "base_uri": "https://localhost:8080/"
        },
        "id": "kqNSSlZbveEA",
        "outputId": "ac01c845-35a7-4e38-94e9-ee442e0c571b"
      },
      "execution_count": null,
      "outputs": [
        {
          "output_type": "stream",
          "name": "stdout",
          "text": [
            "+------------+\n",
            "|estado_civil|\n",
            "+------------+\n",
            "|       Viúvo|\n",
            "|  Divorciado|\n",
            "|    Solteiro|\n",
            "|      Casado|\n",
            "+------------+\n",
            "\n"
          ]
        }
      ]
    },
    {
      "cell_type": "code",
      "source": [
        "# Relação com estado_civil com a coluna especie de pet\n",
        "sql_query = \"\"\"\n",
        "SELECT\n",
        "    pf.estado_civil,\n",
        "    pet.especie,\n",
        "    COUNT(*) AS total\n",
        "FROM\n",
        "    pessoaFisica pf\n",
        "JOIN\n",
        "    pet\n",
        "ON\n",
        "    pf.id_pf = pet.fk_pf\n",
        "WHERE\n",
        "    pf.estado_civil IN ('Casado', 'Solteiro', 'Viúvo', 'Divorciado')\n",
        "GROUP BY\n",
        "    pf.estado_civil,\n",
        "    pet.especie;\n",
        "\"\"\"\n",
        "\n",
        "\n",
        "result = spark.sql(sql_query)\n",
        "result.show()\n"
      ],
      "metadata": {
        "colab": {
          "base_uri": "https://localhost:8080/"
        },
        "id": "VxkUoQ_SwhEm",
        "outputId": "5898993c-15f9-4a6e-90ab-7d331d0ea396"
      },
      "execution_count": null,
      "outputs": [
        {
          "output_type": "stream",
          "name": "stdout",
          "text": [
            "+------------+-------+-----+\n",
            "|estado_civil|especie|total|\n",
            "+------------+-------+-----+\n",
            "|    Solteiro|    Cão|    5|\n",
            "|       Viúvo|   Gato|   37|\n",
            "|       Viúvo|    Cão|   37|\n",
            "|      Casado|    Cão|   70|\n",
            "|    Solteiro|   Gato|   70|\n",
            "|  Divorciado|    Cão|   39|\n",
            "|  Divorciado|   Gato|   36|\n",
            "|      Casado|   Gato|    6|\n",
            "+------------+-------+-----+\n",
            "\n"
          ]
        }
      ]
    },
    {
      "cell_type": "code",
      "source": [
        "sql_query = \"\"\"\n",
        "SELECT\n",
        "    pf.estado_civil,\n",
        "    pet.especie,\n",
        "    COUNT(*) AS total\n",
        "FROM\n",
        "    pessoaFisica pf\n",
        "JOIN\n",
        "    pet\n",
        "ON\n",
        "    pf.id_pf = pet.fk_pf\n",
        "GROUP BY\n",
        "    pf.estado_civil,\n",
        "    pet.especie;\n",
        "\"\"\"\n",
        "\n",
        "# Executar a consulta\n",
        "result = spark.sql(sql_query)\n",
        "result.show()\n"
      ],
      "metadata": {
        "colab": {
          "base_uri": "https://localhost:8080/"
        },
        "id": "99_lfXd-vzyu",
        "outputId": "3f13ef30-ba4e-42e3-8328-76161887c855"
      },
      "execution_count": null,
      "outputs": [
        {
          "output_type": "stream",
          "name": "stdout",
          "text": [
            "+------------+-------+-----+\n",
            "|estado_civil|especie|total|\n",
            "+------------+-------+-----+\n",
            "|    Solteiro|    Cão|    5|\n",
            "|       Viúvo|   Gato|   37|\n",
            "|       Viúvo|    Cão|   37|\n",
            "|      Casado|    Cão|   70|\n",
            "|    Solteiro|   Gato|   70|\n",
            "|  Divorciado|    Cão|   39|\n",
            "|  Divorciado|   Gato|   36|\n",
            "|      Casado|   Gato|    6|\n",
            "+------------+-------+-----+\n",
            "\n"
          ]
        }
      ]
    },
    {
      "cell_type": "code",
      "source": [
        "#Verificar em tabela pet os animais que estão com situação de enfermidade\n",
        "df_pet.select('especie','enfermo').show()"
      ],
      "metadata": {
        "colab": {
          "base_uri": "https://localhost:8080/"
        },
        "id": "Mvytn2zizUK9",
        "outputId": "0ed8d292-efb7-4f74-f3d2-e86c318c2555"
      },
      "execution_count": null,
      "outputs": [
        {
          "output_type": "stream",
          "name": "stdout",
          "text": [
            "+-------+-------+\n",
            "|especie|enfermo|\n",
            "+-------+-------+\n",
            "|   Gato|    Não|\n",
            "|    Cão|    Não|\n",
            "|   Gato|    Não|\n",
            "|    Cão|    Sim|\n",
            "|    Cão|    Não|\n",
            "|   Gato|    Não|\n",
            "|   Gato|    Não|\n",
            "|    Cão|    Sim|\n",
            "|    Cão|    Não|\n",
            "|   Gato|    Não|\n",
            "|   Gato|    Não|\n",
            "|    Cão|    Sim|\n",
            "|    Cão|    Não|\n",
            "|   Gato|    Não|\n",
            "|    Cão|    Sim|\n",
            "|   Gato|    Não|\n",
            "|    Cão|    Não|\n",
            "|   Gato|    Não|\n",
            "|    Cão|    Sim|\n",
            "|    Cão|    Não|\n",
            "+-------+-------+\n",
            "only showing top 20 rows\n",
            "\n"
          ]
        }
      ]
    },
    {
      "cell_type": "code",
      "source": [
        "pt = df_pet.groupBy('especie', 'enfermo').count()\n",
        "pt.show()"
      ],
      "metadata": {
        "colab": {
          "base_uri": "https://localhost:8080/"
        },
        "id": "TG4KpK8eB60G",
        "outputId": "93a82c2a-983b-48ae-dc2a-1362a7709c1d"
      },
      "execution_count": null,
      "outputs": [
        {
          "output_type": "stream",
          "name": "stdout",
          "text": [
            "+-------+-------+-----+\n",
            "|especie|enfermo|count|\n",
            "+-------+-------+-----+\n",
            "|   Gato|    Não|  297|\n",
            "|    Cão|    Não|   83|\n",
            "|   Gato|    Sim|    2|\n",
            "|    Cão|    Sim|  218|\n",
            "+-------+-------+-----+\n",
            "\n"
          ]
        }
      ]
    },
    {
      "cell_type": "code",
      "source": [
        "#selecionar a tabela especie, raça e situação.\n",
        "#para verificar se o animal ta em sistuação de venda ou não\n",
        "df_pet.select('especie','raca','situacao').show()\n",
        "situacao = df_pet.groupBy('especie','raca','situacao').count()\n",
        "situacao.show()"
      ],
      "metadata": {
        "colab": {
          "base_uri": "https://localhost:8080/"
        },
        "id": "DqQ6P0G3DeWB",
        "outputId": "37d33e27-9bd0-4971-fc4e-816c0800c61e"
      },
      "execution_count": null,
      "outputs": [
        {
          "output_type": "stream",
          "name": "stdout",
          "text": [
            "+-------+--------+--------+\n",
            "|especie|    raca|situacao|\n",
            "+-------+--------+--------+\n",
            "|   Gato|  Siamês|   Venda|\n",
            "|    Cão| Pitbull|  Adoção|\n",
            "|   Gato|     SRD|   Venda|\n",
            "|    Cão|   Husky|  Adoção|\n",
            "|    Cão|  Beagle|  Adoção|\n",
            "|   Gato|   Persa|   Venda|\n",
            "|   Gato|  Bengal|   Venda|\n",
            "|    Cão|Labrador|  Adoção|\n",
            "|    Cão|  Golden|  Adoção|\n",
            "|   Gato|  Siamês|   Venda|\n",
            "|   Gato|     SRD|   Venda|\n",
            "|    Cão| Pitbull|  Adoção|\n",
            "|    Cão|  Beagle|  Adoção|\n",
            "|   Gato|  Bengal|   Venda|\n",
            "|    Cão|Labrador|  Adoção|\n",
            "|   Gato|   Persa|   Venda|\n",
            "|    Cão|   Husky|  Adoção|\n",
            "|   Gato|     SRD|   Venda|\n",
            "|    Cão| Pitbull|  Adoção|\n",
            "|    Cão| Bulldog|  Adoção|\n",
            "+-------+--------+--------+\n",
            "only showing top 20 rows\n",
            "\n",
            "+-------+--------------------+--------+-----+\n",
            "|especie|                raca|situacao|count|\n",
            "+-------+--------------------+--------+-----+\n",
            "|   Gato|           Britânico|   Venda|    1|\n",
            "|    Cão|            Labrador|  Adoção|   46|\n",
            "|    Cão|            Doberman|  Adoção|    3|\n",
            "|   Gato|            Himalaia|   Venda|    1|\n",
            "|    Cão|    Golden Retriever|  Adoção|    3|\n",
            "|    Cão|             Terrier|  Adoção|    5|\n",
            "|    Cão|          Rottweiler|  Adoção|   16|\n",
            "|   Gato|                 SRD|   Venda|   52|\n",
            "|    Cão|      Cocker Spaniel|  Adoção|    5|\n",
            "|    Cão|     Bulldog Francês|  Adoção|    2|\n",
            "|    Cão|              Beagle|  Adoção|   50|\n",
            "|    Cão|             Mastiff|  Adoção|    1|\n",
            "|    Cão|             Bulldog|  Adoção|   16|\n",
            "|   Gato|              Bengal|   Venda|   81|\n",
            "|    Cão|           Chihuahua|  Adoção|    4|\n",
            "|   Gato|       Scottish Fold|   Venda|    3|\n",
            "|    Cão|            Shih Tzu|  Adoção|    1|\n",
            "|    Cão|       Border Collie|  Adoção|    1|\n",
            "|    Cão|               Boxer|  Adoção|    3|\n",
            "|    Cão|Cavalier King Charle|  Adoção|    1|\n",
            "+-------+--------------------+--------+-----+\n",
            "only showing top 20 rows\n",
            "\n"
          ]
        }
      ]
    },
    {
      "cell_type": "code",
      "source": [],
      "metadata": {
        "id": "yaJCCSlIFtD1"
      },
      "execution_count": null,
      "outputs": []
    }
  ]
}